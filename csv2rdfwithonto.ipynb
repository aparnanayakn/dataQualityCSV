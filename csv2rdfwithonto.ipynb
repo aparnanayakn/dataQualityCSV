{
 "cells": [
  {
   "cell_type": "code",
   "execution_count": null,
   "metadata": {},
   "outputs": [],
   "source": [
    "import pandas as pd\n",
    "import numpy as np\n",
    "\n",
    "import os\n",
    "import ntpath\n",
    "import re\n",
    "import time\n",
    "\n",
    "\n",
    "from stat import *\n",
    "from rdflib import *\n",
    "from rdflib.namespace import *\n",
    "\n",
    "import networkx as nx\n",
    "import matplotlib.pyplot as plt"
   ]
  },
  {
   "cell_type": "code",
   "execution_count": null,
   "metadata": {},
   "outputs": [],
   "source": [
    "prefix = URIRef(\"http://www.semanticweb.org/d19125691/ontologies/2020/7/CSVDQ\")\n",
    "owl = URIRef(\"http://www.w3.org/2002/07/owl#\")\n",
    "rdf = URIRef(\"https://www.w3.org/1999/02/22-rdf-syntax-ns\")\n",
    "dc = URIRef(\"http://purl.org/dc/elements/1.1/\")"
   ]
  },
  {
   "cell_type": "code",
   "execution_count": null,
   "metadata": {},
   "outputs": [],
   "source": [
    "#Data to triples\n",
    "g = Graph()\n",
    "dataset = prefix+\"#dataset\"\n",
    "fileSize = prefix+\"/fileSize\"\n",
    "fileMod = prefix+\"/fileModified\"\n",
    "fformat = dc+\"/format\"\n",
    "\n",
    "data = pd.read_csv(\"/home/d19125691/Experiments/Experiments/datasets/example.csv\") \n",
    "\n",
    "#adding triples to graph g\n",
    "for i in range(len(data)):\n",
    "    rowprefix=prefix+\"/R\"+str(i)\n",
    "    g.add((rowprefix, RDF.type, prefix))\n",
    "    for k in range(len(data.columns)):\n",
    "        value=data.iloc[i][k]\n",
    "        colprefix = prefix+\":\"+data.columns[k]\n",
    "        g.add((rowprefix, colprefix, Literal(value)))\n",
    "\n",
    "#adding metadata to graph g     \n",
    "try:\n",
    "    st = os.stat(\"/home/d19125691/Experiments/Experiments/datasets/example.csv\")\n",
    "except IOError:\n",
    "    print(\"failed to get information about\")\n",
    "else: \n",
    "    g.add((dataset, fileSize, Literal(st[ST_SIZE])))\n",
    "    g.add((dataset, fileMod, Literal(time.asctime(time.localtime(st[ST_MTIME])))))\n",
    "    g.add((dataset, fformat, Literal(\"text/csv\") ))\n",
    "\n",
    "g.serialize(\"data.rdf\", format=\"n3\")"
   ]
  },
  {
   "cell_type": "code",
   "execution_count": null,
   "metadata": {},
   "outputs": [],
   "source": [
    "#Dynamic ontology\n",
    "g1 = Graph()\n",
    "\n",
    "classpre = owl+\"Class\"\n",
    "thing = owl+\"Thing\"\n",
    "\n",
    "about = rdf +\"about\"\n",
    "rowpre = prefix+\"#row\"\n",
    "colpre = prefix+\"#columns\"\n",
    "dataset = prefix+\"#dataset\"\n",
    "\n",
    "#dataset info\n",
    "#g1.add((dataset, RDFS.subClassOf, thing))\n",
    "#g1.add((dataset, RDF.type, classpre))\n",
    "\n",
    "#row information\n",
    "g1.add((rowpre, RDF.type, classpre))\n",
    "g1.add((rowpre, RDFS.subClassOf, dataset))\n",
    "\n",
    "for i in range(len(data)):\n",
    "    rowprefix=prefix+\"/R\"+str(i)\n",
    "    g1.add((rowprefix,  RDF.type , rowpre))\n",
    "    \n",
    "#column information\n",
    "g1.add((colpre, RDF.type, classpre))\n",
    "g1.add((colpre, RDFS.subClassOf, dataset))\n",
    "\n",
    "\n",
    "print(g1.serialize(format='n3').decode(\"utf-8\"))\n",
    "print(g.serialize(format='n3').decode(\"utf-8\"))\n",
    "\n",
    "g1.serialize(\"ontology.rdf\", format=\"n3\")"
   ]
  }
 ],
 "metadata": {
  "kernelspec": {
   "display_name": ".deeplearningClass",
   "language": "python",
   "name": ".deeplearningclass"
  },
  "language_info": {
   "codemirror_mode": {
    "name": "ipython",
    "version": 3
   },
   "file_extension": ".py",
   "mimetype": "text/x-python",
   "name": "python",
   "nbconvert_exporter": "python",
   "pygments_lexer": "ipython3",
   "version": "3.6.9"
  }
 },
 "nbformat": 4,
 "nbformat_minor": 4
}
